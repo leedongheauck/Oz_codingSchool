{
 "cells": [
  {
   "cell_type": "markdown",
   "metadata": {},
   "source": [
    "사용자로부터 3개의 숫자를 입력받아, 이를 튜플로 만든 후 최소값과 최대값을 출력하는 함수 min_max를 작성하세요."
   ]
  },
  {
   "cell_type": "code",
   "execution_count": null,
   "metadata": {},
   "outputs": [],
   "source": [
    "def min_max():\n",
    "    \n",
    "    num1 = int(input(\"첫 번째 숫자를 입력하세요: \"))\n",
    "    num2 = int(input(\"두 번째 숫자를 입력하세요: \"))\n",
    "    num3 = int(input(\"세 번째 숫자를 입력하세요: \"))\n",
    "    \n",
    "    numbers = (num1, num2, num3)  \n",
    "    \n",
    "    \n",
    "    min_value = min(numbers)\n",
    "    max_value = max(numbers)\n",
    "    \n",
    "  \n",
    "    print(f\"최소값: {min_value}\")\n",
    "    print(f\"최대값: {max_value}\")\n",
    "\n",
    "\n",
    "min_max()\n"
   ]
  },
  {
   "cell_type": "markdown",
   "metadata": {},
   "source": []
  }
 ],
 "metadata": {
  "language_info": {
   "name": "python"
  }
 },
 "nbformat": 4,
 "nbformat_minor": 2
}
