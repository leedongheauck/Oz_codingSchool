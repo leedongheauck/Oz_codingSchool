{
 "cells": [
  {
   "cell_type": "markdown",
   "metadata": {},
   "source": [
    "두 문자열을 받아서 긴 문자열을 반환하는 함수 longer_string을 작성하세요. 만약 두 문자열의 길이가 같다면, 첫 번째 문자열을 반환하세요."
   ]
  },
  {
   "cell_type": "code",
   "execution_count": null,
   "metadata": {},
   "outputs": [],
   "source": [
    "def longer_string(s1: str, s2: str) -> str:\n",
    "    if len(s1) >= len(s2):\n",
    "        return s1\n",
    "    else:\n",
    "        return s2\n",
    "\n",
    "\n",
    "print(longer_string(\"apple\", \"banana\"))  \n",
    "print(longer_string(\"cherry\", \"pie\"))    \n",
    "print(longer_string(\"hello\", \"world\"))   \n"
   ]
  },
  {
   "cell_type": "markdown",
   "metadata": {},
   "source": []
  }
 ],
 "metadata": {
  "language_info": {
   "name": "python"
  }
 },
 "nbformat": 4,
 "nbformat_minor": 2
}
