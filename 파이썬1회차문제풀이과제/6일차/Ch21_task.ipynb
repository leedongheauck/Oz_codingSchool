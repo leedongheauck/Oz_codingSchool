{
 "cells": [
  {
   "cell_type": "markdown",
   "metadata": {},
   "source": [
    "사용자로부터 이름과 나이를 입력 받아, \"안녕하세요, [이름]님! 당신은 [나이]살입니다.\"라고 출력하는 함수 greet_user를 작성하세요."
   ]
  },
  {
   "cell_type": "code",
   "execution_count": null,
   "metadata": {},
   "outputs": [],
   "source": [
    "def greet_user():\n",
    "   \n",
    "    name = input(\"이름을 입력하세요: \")\n",
    "    age = input(\"나이를 입력하세요: \")\n",
    "    \n",
    "    \n",
    "    print(f\"안녕하세요, {name}님! 당신은 {age}살입니다.\")\n",
    "\n",
    "\n",
    "greet_user()\n"
   ]
  },
  {
   "cell_type": "markdown",
   "metadata": {},
   "source": []
  }
 ],
 "metadata": {
  "language_info": {
   "name": "python"
  }
 },
 "nbformat": 4,
 "nbformat_minor": 2
}
